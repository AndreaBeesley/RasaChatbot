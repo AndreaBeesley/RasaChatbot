{
  "cells": [
    {
      "cell_type": "markdown",
      "metadata": {
        "id": "view-in-github",
        "colab_type": "text"
      },
      "source": [
        "<a href=\"https://colab.research.google.com/github/AndreaBeesley/RasaChatbot/blob/main/RasaChatbotFinal.ipynb\" target=\"_parent\"><img src=\"https://colab.research.google.com/assets/colab-badge.svg\" alt=\"Open In Colab\"/></a>"
      ]
    },
    {
      "cell_type": "code",
      "execution_count": null,
      "metadata": {
        "colab": {
          "background_save": true,
          "base_uri": "https://localhost:8080/",
          "height": 39,
          "resources": {
            "http://localhost:8080/nbextensions/google.colab/files.js": {
              "data": "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",
              "headers": [
                [
                  "content-type",
                  "application/javascript"
                ]
              ],
              "ok": true,
              "status": 200,
              "status_text": ""
            }
          }
        },
        "id": "sWFa9gdLhTkz",
        "outputId": "515a5920-d1e8-4df8-845a-dfb37d2a3773"
      },
      "outputs": [
        {
          "data": {
            "text/html": [
              "\n",
              "     <input type=\"file\" id=\"files-0b113508-957d-4b84-81d5-80653ebeb12e\" name=\"files[]\" multiple disabled\n",
              "        style=\"border:none\" />\n",
              "     <output id=\"result-0b113508-957d-4b84-81d5-80653ebeb12e\">\n",
              "      Upload widget is only available when the cell has been executed in the\n",
              "      current browser session. Please rerun this cell to enable.\n",
              "      </output>\n",
              "      <script src=\"/nbextensions/google.colab/files.js\"></script> "
            ],
            "text/plain": [
              "<IPython.core.display.HTML object>"
            ]
          },
          "metadata": {},
          "output_type": "display_data"
        },
        {
          "ename": "TypeError",
          "evalue": "ignored",
          "output_type": "error",
          "traceback": [
            "\u001b[0;31m---------------------------------------------------------------------------\u001b[0m",
            "\u001b[0;31mTypeError\u001b[0m                                 Traceback (most recent call last)",
            "\u001b[0;32m<ipython-input-1-8e1e89930b72>\u001b[0m in \u001b[0;36m<module>\u001b[0;34m\u001b[0m\n\u001b[1;32m      1\u001b[0m \u001b[0;32mfrom\u001b[0m \u001b[0mgoogle\u001b[0m\u001b[0;34m.\u001b[0m\u001b[0mcolab\u001b[0m \u001b[0;32mimport\u001b[0m \u001b[0mfiles\u001b[0m\u001b[0;34m\u001b[0m\u001b[0;34m\u001b[0m\u001b[0m\n\u001b[0;32m----> 2\u001b[0;31m \u001b[0mupload\u001b[0m \u001b[0;34m=\u001b[0m \u001b[0mfiles\u001b[0m\u001b[0;34m.\u001b[0m\u001b[0mupload\u001b[0m\u001b[0;34m(\u001b[0m\u001b[0;34m)\u001b[0m\u001b[0;34m\u001b[0m\u001b[0;34m\u001b[0m\u001b[0m\n\u001b[0m",
            "\u001b[0;32m/usr/local/lib/python3.7/dist-packages/google/colab/files.py\u001b[0m in \u001b[0;36mupload\u001b[0;34m()\u001b[0m\n\u001b[1;32m     39\u001b[0m   \"\"\"\n\u001b[1;32m     40\u001b[0m \u001b[0;34m\u001b[0m\u001b[0m\n\u001b[0;32m---> 41\u001b[0;31m   \u001b[0muploaded_files\u001b[0m \u001b[0;34m=\u001b[0m \u001b[0m_upload_files\u001b[0m\u001b[0;34m(\u001b[0m\u001b[0mmultiple\u001b[0m\u001b[0;34m=\u001b[0m\u001b[0;32mTrue\u001b[0m\u001b[0;34m)\u001b[0m\u001b[0;34m\u001b[0m\u001b[0;34m\u001b[0m\u001b[0m\n\u001b[0m\u001b[1;32m     42\u001b[0m   \u001b[0;31m# Mapping from original filename to filename as saved locally.\u001b[0m\u001b[0;34m\u001b[0m\u001b[0;34m\u001b[0m\u001b[0;34m\u001b[0m\u001b[0m\n\u001b[1;32m     43\u001b[0m   \u001b[0mlocal_filenames\u001b[0m \u001b[0;34m=\u001b[0m \u001b[0mdict\u001b[0m\u001b[0;34m(\u001b[0m\u001b[0;34m)\u001b[0m\u001b[0;34m\u001b[0m\u001b[0;34m\u001b[0m\u001b[0m\n",
            "\u001b[0;32m/usr/local/lib/python3.7/dist-packages/google/colab/files.py\u001b[0m in \u001b[0;36m_upload_files\u001b[0;34m(multiple)\u001b[0m\n\u001b[1;32m    119\u001b[0m   \u001b[0mfiles\u001b[0m \u001b[0;34m=\u001b[0m \u001b[0m_collections\u001b[0m\u001b[0;34m.\u001b[0m\u001b[0mdefaultdict\u001b[0m\u001b[0;34m(\u001b[0m\u001b[0mbytes\u001b[0m\u001b[0;34m)\u001b[0m\u001b[0;34m\u001b[0m\u001b[0;34m\u001b[0m\u001b[0m\n\u001b[1;32m    120\u001b[0m \u001b[0;34m\u001b[0m\u001b[0m\n\u001b[0;32m--> 121\u001b[0;31m   \u001b[0;32mwhile\u001b[0m \u001b[0mresult\u001b[0m\u001b[0;34m[\u001b[0m\u001b[0;34m'action'\u001b[0m\u001b[0;34m]\u001b[0m \u001b[0;34m!=\u001b[0m \u001b[0;34m'complete'\u001b[0m\u001b[0;34m:\u001b[0m\u001b[0;34m\u001b[0m\u001b[0;34m\u001b[0m\u001b[0m\n\u001b[0m\u001b[1;32m    122\u001b[0m     result = _output.eval_js(\n\u001b[1;32m    123\u001b[0m         'google.colab._files._uploadFilesContinue(\"{output_id}\")'.format(\n",
            "\u001b[0;31mTypeError\u001b[0m: 'NoneType' object is not subscriptable"
          ]
        }
      ],
      "source": [
        "from google.colab import files\n",
        "upload = files.upload()"
      ]
    },
    {
      "cell_type": "code",
      "execution_count": 1,
      "metadata": {
        "colab": {
          "base_uri": "https://localhost:8080/"
        },
        "id": "CDtBmbJc5AVn",
        "outputId": "72e6ebe5-dfc1-4aa9-9b75-c35ead91b794"
      },
      "outputs": [
        {
          "output_type": "stream",
          "name": "stdout",
          "text": [
            "Mounted at /content/drive\n"
          ]
        }
      ],
      "source": [
        "from google.colab import drive\n",
        "drive.mount('/content/drive')"
      ]
    },
    {
      "cell_type": "code",
      "execution_count": null,
      "metadata": {
        "colab": {
          "base_uri": "https://localhost:8080/"
        },
        "id": "9Y2gRhS3p9HU",
        "outputId": "a45da58d-5c5c-4c44-b6c9-541f8384382d"
      },
      "outputs": [
        {
          "name": "stdout",
          "output_type": "stream",
          "text": [
            "/content/drive/MyDrive/Project/rasa_chatbot\n"
          ]
        }
      ],
      "source": [
        "%cd /content/drive/MyDrive/Project/rasa_chatbot/"
      ]
    },
    {
      "cell_type": "code",
      "execution_count": null,
      "metadata": {
        "colab": {
          "base_uri": "https://localhost:8080/"
        },
        "id": "bxPzheUWhaY6",
        "outputId": "1c3ce56e-bf2e-4b5e-833c-40246616d02b"
      },
      "outputs": [
        {
          "name": "stdout",
          "output_type": "stream",
          "text": [
            "/content/drive/MyDrive/Project/rasa_chatbot\n"
          ]
        }
      ],
      "source": [
        "!pwd"
      ]
    },
    {
      "cell_type": "code",
      "execution_count": null,
      "metadata": {
        "colab": {
          "base_uri": "https://localhost:8080/",
          "height": 1000
        },
        "id": "AKp74EpPVfL5",
        "outputId": "c466d5aa-cb52-41e1-ca12-425f41f959f9"
      },
      "outputs": [
        {
          "name": "stdout",
          "output_type": "stream",
          "text": [
            "\u001b[33mWARNING: Skipping rasa as it is not installed.\u001b[0m\n",
            "Looking in indexes: https://pypi.org/simple, https://us-python.pkg.dev/colab-wheels/public/simple/\n",
            "Collecting rasa\n",
            "  Downloading rasa-3.2.8-py3-none-any.whl (819 kB)\n",
            "\u001b[K     |████████████████████████████████| 819 kB 14.7 MB/s \n",
            "\u001b[?25hCollecting absl-py<0.14,>=0.9\n",
            "  Downloading absl_py-0.13.0-py3-none-any.whl (132 kB)\n",
            "\u001b[K     |████████████████████████████████| 132 kB 73.5 MB/s \n",
            "\u001b[?25hCollecting sklearn-crfsuite<0.4,>=0.3\n",
            "  Downloading sklearn_crfsuite-0.3.6-py2.py3-none-any.whl (12 kB)\n",
            "Collecting apscheduler<3.8,>=3.6\n",
            "  Downloading APScheduler-3.7.0-py2.py3-none-any.whl (59 kB)\n",
            "\u001b[K     |████████████████████████████████| 59 kB 7.8 MB/s \n",
            "\u001b[?25hCollecting rasa-sdk<3.3.0,>=3.2.0\n",
            "  Downloading rasa_sdk-3.2.1-py3-none-any.whl (41 kB)\n",
            "\u001b[K     |████████████████████████████████| 41 kB 53 kB/s \n",
            "\u001b[?25hCollecting randomname<0.2.0,>=0.1.5\n",
            "  Downloading randomname-0.1.5.tar.gz (36 kB)\n",
            "Collecting typing-utils<0.2.0,>=0.1.0\n",
            "  Downloading typing_utils-0.1.0-py3-none-any.whl (10 kB)\n",
            "Collecting regex<2022.5,>=2020.6\n",
            "  Downloading regex-2022.4.24-cp37-cp37m-manylinux_2_17_x86_64.manylinux2014_x86_64.whl (749 kB)\n",
            "\u001b[K     |████████████████████████████████| 749 kB 57.2 MB/s \n",
            "\u001b[?25hCollecting aio-pika<9.0.0,>=6.7.1\n",
            "  Downloading aio_pika-8.2.0-py3-none-any.whl (49 kB)\n",
            "\u001b[K     |████████████████████████████████| 49 kB 7.2 MB/s \n",
            "\u001b[?25hCollecting pydot<1.5,>=1.4\n",
            "  Downloading pydot-1.4.2-py2.py3-none-any.whl (21 kB)\n",
            "Requirement already satisfied: dask==2022.2.0 in /usr/local/lib/python3.7/dist-packages (from rasa) (2022.2.0)\n",
            "Collecting numpy<1.20.0,>=1.19.2\n",
            "  Downloading numpy-1.19.5-cp37-cp37m-manylinux2010_x86_64.whl (14.8 MB)\n",
            "\u001b[K     |████████████████████████████████| 14.8 MB 52.6 MB/s \n",
            "\u001b[?25hCollecting pyTelegramBotAPI<5.0.0,>=3.7.3\n",
            "  Downloading pyTelegramBotAPI-4.7.0.tar.gz (210 kB)\n",
            "\u001b[K     |████████████████████████████████| 210 kB 52.6 MB/s \n",
            "\u001b[?25hCollecting colorhash<1.1.0,>=1.0.2\n",
            "  Downloading colorhash-1.0.4-py3-none-any.whl (5.5 kB)\n",
            "Requirement already satisfied: requests<3.0,>=2.23 in /usr/local/lib/python3.7/dist-packages (from rasa) (2.23.0)\n",
            "Collecting coloredlogs<16,>=10\n",
            "  Downloading coloredlogs-15.0.1-py2.py3-none-any.whl (46 kB)\n",
            "\u001b[K     |████████████████████████████████| 46 kB 4.4 MB/s \n",
            "\u001b[?25hRequirement already satisfied: cloudpickle<1.7,>=1.2 in /usr/local/lib/python3.7/dist-packages (from rasa) (1.5.0)\n",
            "Collecting pytz<2022.0,>=2019.1\n",
            "  Downloading pytz-2021.3-py2.py3-none-any.whl (503 kB)\n",
            "\u001b[K     |████████████████████████████████| 503 kB 64.6 MB/s \n",
            "\u001b[?25hCollecting slackclient<3.0.0,>=2.0.0\n",
            "  Downloading slackclient-2.9.4-py2.py3-none-any.whl (97 kB)\n",
            "\u001b[K     |████████████████████████████████| 97 kB 6.6 MB/s \n",
            "\u001b[?25hCollecting tensorflow-text<2.8.0,>=2.7.0\n",
            "  Downloading tensorflow_text-2.7.3-cp37-cp37m-manylinux2010_x86_64.whl (4.9 MB)\n",
            "\u001b[K     |████████████████████████████████| 4.9 MB 65.2 MB/s \n",
            "\u001b[?25hCollecting python-socketio<6,>=4.4\n",
            "  Downloading python_socketio-5.7.1-py3-none-any.whl (56 kB)\n",
            "\u001b[K     |████████████████████████████████| 56 kB 5.2 MB/s \n",
            "\u001b[?25hCollecting sanic-routing<0.8.0,>=0.7.2\n",
            "  Downloading sanic_routing-0.7.2-py3-none-any.whl (23 kB)\n",
            "Requirement already satisfied: CacheControl<0.13.0,>=0.12.9 in /usr/local/lib/python3.7/dist-packages (from rasa) (0.12.11)\n",
            "Collecting prompt-toolkit<3.0.29,>=3.0\n",
            "  Downloading prompt_toolkit-3.0.28-py3-none-any.whl (380 kB)\n",
            "\u001b[K     |████████████████████████████████| 380 kB 68.8 MB/s \n",
            "\u001b[?25hCollecting sanic-jwt<2.0.0,>=1.6.0\n",
            "  Downloading sanic_jwt-1.8.0-py3-none-any.whl (23 kB)\n",
            "Requirement already satisfied: matplotlib<3.4,>=3.1 in /usr/local/lib/python3.7/dist-packages (from rasa) (3.2.2)\n",
            "Collecting sanic-cors<2.1.0,>=2.0.0\n",
            "  Downloading Sanic_Cors-2.0.1-py2.py3-none-any.whl (17 kB)\n",
            "Collecting typing-extensions<4.0.0,>=3.7.4\n",
            "  Downloading typing_extensions-3.10.0.2-py3-none-any.whl (26 kB)\n",
            "Requirement already satisfied: jsonschema<4.5,>=3.2 in /usr/local/lib/python3.7/dist-packages (from rasa) (4.3.3)\n",
            "Collecting rocketchat_API<1.26.0,>=0.6.31\n",
            "  Downloading rocketchat_API-1.25.0-py3-none-any.whl (19 kB)\n",
            "Collecting tensorflow<2.8.0,>=2.7.0\n",
            "  Downloading tensorflow-2.7.4-cp37-cp37m-manylinux2010_x86_64.whl (495.5 MB)\n",
            "\u001b[K     |████████████████████████████████| 495.5 MB 12 kB/s \n",
            "\u001b[?25hCollecting pymongo[srv,tls]<3.11,>=3.8\n",
            "  Downloading pymongo-3.10.1-cp37-cp37m-manylinux2014_x86_64.whl (462 kB)\n",
            "\u001b[K     |████████████████████████████████| 462 kB 42.6 MB/s \n",
            "\u001b[?25hRequirement already satisfied: ujson<6.0,>=1.35 in /usr/local/lib/python3.7/dist-packages (from rasa) (5.4.0)\n",
            "Collecting tensorflow-addons<0.16.0,>=0.15.0\n",
            "  Downloading tensorflow_addons-0.15.0-cp37-cp37m-manylinux_2_12_x86_64.manylinux2010_x86_64.whl (1.1 MB)\n",
            "\u001b[K     |████████████████████████████████| 1.1 MB 63.7 MB/s \n",
            "\u001b[?25hRequirement already satisfied: python-dateutil<2.9,>=2.8 in /usr/local/lib/python3.7/dist-packages (from rasa) (2.8.2)\n",
            "Collecting fbmessenger<6.1.0,>=6.0.0\n",
            "  Downloading fbmessenger-6.0.0-py2.py3-none-any.whl (11 kB)\n",
            "Collecting tarsafe<0.0.4,>=0.0.3\n",
            "  Downloading tarsafe-0.0.3-py3-none-any.whl (5.0 kB)\n",
            "Collecting joblib<1.1.0,>=0.15.1\n",
            "  Downloading joblib-1.0.1-py3-none-any.whl (303 kB)\n",
            "\u001b[K     |████████████████████████████████| 303 kB 68.8 MB/s \n",
            "\u001b[?25hCollecting packaging<21.0,>=20.0\n",
            "  Downloading packaging-20.9-py2.py3-none-any.whl (40 kB)\n",
            "\u001b[K     |████████████████████████████████| 40 kB 4.0 MB/s \n",
            "\u001b[?25hRequirement already satisfied: scipy<1.8.0,>=1.4.1 in /usr/local/lib/python3.7/dist-packages (from rasa) (1.7.3)\n",
            "Collecting sanic<21.13,>=21.12\n",
            "  Downloading sanic-21.12.2-py3-none-any.whl (156 kB)\n",
            "\u001b[K     |████████████████████████████████| 156 kB 73.6 MB/s \n",
            "\u001b[?25hCollecting scikit-learn<0.25,>=0.22\n",
            "  Downloading scikit_learn-0.24.2-cp37-cp37m-manylinux2010_x86_64.whl (22.3 MB)\n",
            "\u001b[K     |████████████████████████████████| 22.3 MB 67.5 MB/s \n",
            "\u001b[?25hRequirement already satisfied: networkx<2.7,>=2.4 in /usr/local/lib/python3.7/dist-packages (from rasa) (2.6.3)\n",
            "Requirement already satisfied: google-auth<2 in /usr/local/lib/python3.7/dist-packages (from rasa) (1.35.0)\n",
            "Collecting mattermostwrapper<2.3,>=2.2\n",
            "  Downloading mattermostwrapper-2.2.tar.gz (2.5 kB)\n",
            "Collecting psycopg2-binary<2.10.0,>=2.8.2\n",
            "  Downloading psycopg2_binary-2.9.3-cp37-cp37m-manylinux_2_17_x86_64.manylinux2014_x86_64.whl (3.0 MB)\n",
            "\u001b[K     |████████████████████████████████| 3.0 MB 61.0 MB/s \n",
            "\u001b[?25hRequirement already satisfied: tqdm<5.0,>=4.31 in /usr/local/lib/python3.7/dist-packages (from rasa) (4.64.0)\n",
            "Requirement already satisfied: SQLAlchemy<1.5.0,>=1.4.0 in /usr/local/lib/python3.7/dist-packages (from rasa) (1.4.40)\n",
            "Collecting attrs<21.3,>=19.3\n",
            "  Downloading attrs-21.2.0-py2.py3-none-any.whl (53 kB)\n",
            "\u001b[K     |████████████████████████████████| 53 kB 2.2 MB/s \n",
            "\u001b[?25hCollecting python-engineio!=5.0.0,<6,>=4\n",
            "  Downloading python_engineio-4.3.4-py3-none-any.whl (52 kB)\n",
            "\u001b[K     |████████████████████████████████| 52 kB 1.7 MB/s \n",
            "\u001b[?25hCollecting colorclass<2.3,>=2.2\n",
            "  Downloading colorclass-2.2.2-py2.py3-none-any.whl (18 kB)\n",
            "Collecting webexteamssdk<1.7.0,>=1.1.1\n",
            "  Downloading webexteamssdk-1.6.1-py3-none-any.whl (113 kB)\n",
            "\u001b[K     |████████████████████████████████| 113 kB 72.6 MB/s \n",
            "\u001b[?25hCollecting pykwalify<1.9,>=1.7\n",
            "  Downloading pykwalify-1.8.0-py2.py3-none-any.whl (24 kB)\n",
            "Collecting jsonpickle<2.1,>=1.3\n",
            "  Downloading jsonpickle-2.0.0-py2.py3-none-any.whl (37 kB)\n",
            "Collecting redis<4.0,>=3.4\n",
            "  Downloading redis-3.5.3-py2.py3-none-any.whl (72 kB)\n",
            "\u001b[K     |████████████████████████████████| 72 kB 537 kB/s \n",
            "\u001b[?25hCollecting PyJWT[crypto]<3.0.0,>=2.0.0\n",
            "  Downloading PyJWT-2.4.0-py3-none-any.whl (18 kB)\n",
            "Requirement already satisfied: setuptools>=41.0.0 in /usr/local/lib/python3.7/dist-packages (from rasa) (57.4.0)\n",
            "Collecting aiohttp!=3.7.4.post0,<3.8,>=3.6\n",
            "  Downloading aiohttp-3.7.4-cp37-cp37m-manylinux2014_x86_64.whl (1.3 MB)\n",
            "\u001b[K     |████████████████████████████████| 1.3 MB 57.6 MB/s \n",
            "\u001b[?25hCollecting questionary<1.11.0,>=1.5.1\n",
            "  Downloading questionary-1.10.0-py3-none-any.whl (31 kB)\n",
            "Collecting sentry-sdk<1.4.0,>=0.17.0\n",
            "  Downloading sentry_sdk-1.3.1-py2.py3-none-any.whl (133 kB)\n",
            "\u001b[K     |████████████████████████████████| 133 kB 71.7 MB/s \n",
            "\u001b[?25hCollecting boto3<2.0,>=1.12\n",
            "  Downloading boto3-1.24.70-py3-none-any.whl (132 kB)\n",
            "\u001b[K     |████████████████████████████████| 132 kB 69.0 MB/s \n",
            "\u001b[?25hCollecting terminaltables<3.2.0,>=3.1.0\n",
            "  Downloading terminaltables-3.1.10-py2.py3-none-any.whl (15 kB)\n",
            "Collecting kafka-python<3.0,>=1.4\n",
            "  Downloading kafka_python-2.0.2-py2.py3-none-any.whl (246 kB)\n",
            "\u001b[K     |████████████████████████████████| 246 kB 67.7 MB/s \n",
            "\u001b[?25hRequirement already satisfied: tensorflow_hub<0.13.0,>=0.12.0 in /usr/local/lib/python3.7/dist-packages (from rasa) (0.12.0)\n",
            "Collecting twilio<6.51,>=6.26\n",
            "  Downloading twilio-6.50.1.tar.gz (457 kB)\n",
            "\u001b[K     |████████████████████████████████| 457 kB 68.5 MB/s \n",
            "\u001b[?25hCollecting ruamel.yaml<0.17.0,>=0.16.5\n",
            "  Downloading ruamel.yaml-0.16.13-py2.py3-none-any.whl (111 kB)\n",
            "\u001b[K     |████████████████████████████████| 111 kB 62.4 MB/s \n",
            "\u001b[?25hRequirement already satisfied: toolz>=0.8.2 in /usr/local/lib/python3.7/dist-packages (from dask==2022.2.0->rasa) (0.12.0)\n",
            "Requirement already satisfied: partd>=0.3.10 in /usr/local/lib/python3.7/dist-packages (from dask==2022.2.0->rasa) (1.3.0)\n",
            "Requirement already satisfied: fsspec>=0.6.0 in /usr/local/lib/python3.7/dist-packages (from dask==2022.2.0->rasa) (2022.8.1)\n",
            "Requirement already satisfied: pyyaml>=5.3.1 in /usr/local/lib/python3.7/dist-packages (from dask==2022.2.0->rasa) (6.0)\n",
            "Requirement already satisfied: six in /usr/local/lib/python3.7/dist-packages (from absl-py<0.14,>=0.9->rasa) (1.15.0)\n",
            "Requirement already satisfied: yarl in /usr/local/lib/python3.7/dist-packages (from aio-pika<9.0.0,>=6.7.1->rasa) (1.8.1)\n",
            "Collecting aiormq~=6.4.0\n",
            "  Downloading aiormq-6.4.1.tar.gz (30 kB)\n",
            "Requirement already satisfied: chardet<4.0,>=2.0 in /usr/local/lib/python3.7/dist-packages (from aiohttp!=3.7.4.post0,<3.8,>=3.6->rasa) (3.0.4)\n",
            "Collecting async-timeout<4.0,>=3.0\n",
            "  Downloading async_timeout-3.0.1-py3-none-any.whl (8.2 kB)\n",
            "Requirement already satisfied: multidict<7.0,>=4.5 in /usr/local/lib/python3.7/dist-packages (from aiohttp!=3.7.4.post0,<3.8,>=3.6->rasa) (6.0.2)\n",
            "Collecting pamqp==3.2.0\n",
            "  Downloading pamqp-3.2.0.tar.gz (30 kB)\n",
            "Collecting tzlocal~=2.0\n",
            "  Downloading tzlocal-2.1-py2.py3-none-any.whl (16 kB)\n",
            "Collecting s3transfer<0.7.0,>=0.6.0\n",
            "  Downloading s3transfer-0.6.0-py3-none-any.whl (79 kB)\n",
            "\u001b[K     |████████████████████████████████| 79 kB 5.5 MB/s \n",
            "\u001b[?25hCollecting jmespath<2.0.0,>=0.7.1\n",
            "  Downloading jmespath-1.0.1-py3-none-any.whl (20 kB)\n",
            "Collecting botocore<1.28.0,>=1.27.70\n",
            "  Downloading botocore-1.27.70-py3-none-any.whl (9.1 MB)\n",
            "\u001b[K     |████████████████████████████████| 9.1 MB 55.8 MB/s \n",
            "\u001b[?25hCollecting urllib3<1.27,>=1.25.4\n",
            "  Downloading urllib3-1.26.12-py2.py3-none-any.whl (140 kB)\n",
            "\u001b[K     |████████████████████████████████| 140 kB 64.6 MB/s \n",
            "\u001b[?25hRequirement already satisfied: msgpack>=0.5.2 in /usr/local/lib/python3.7/dist-packages (from CacheControl<0.13.0,>=0.12.9->rasa) (1.0.4)\n",
            "Collecting humanfriendly>=9.1\n",
            "  Downloading humanfriendly-10.0-py2.py3-none-any.whl (86 kB)\n",
            "\u001b[K     |████████████████████████████████| 86 kB 4.0 MB/s \n",
            "\u001b[?25hRequirement already satisfied: rsa<5,>=3.1.4 in /usr/local/lib/python3.7/dist-packages (from google-auth<2->rasa) (4.9)\n",
            "Requirement already satisfied: pyasn1-modules>=0.2.1 in /usr/local/lib/python3.7/dist-packages (from google-auth<2->rasa) (0.2.8)\n",
            "Requirement already satisfied: cachetools<5.0,>=2.0.0 in /usr/local/lib/python3.7/dist-packages (from google-auth<2->rasa) (4.2.4)\n",
            "Requirement already satisfied: importlib-metadata in /usr/local/lib/python3.7/dist-packages (from jsonpickle<2.1,>=1.3->rasa) (4.12.0)\n",
            "Requirement already satisfied: importlib-resources>=1.4.0 in /usr/local/lib/python3.7/dist-packages (from jsonschema<4.5,>=3.2->rasa) (5.9.0)\n",
            "Requirement already satisfied: pyrsistent!=0.17.0,!=0.17.1,!=0.17.2,>=0.14.0 in /usr/local/lib/python3.7/dist-packages (from jsonschema<4.5,>=3.2->rasa) (0.18.1)\n",
            "Requirement already satisfied: zipp>=3.1.0 in /usr/local/lib/python3.7/dist-packages (from importlib-resources>=1.4.0->jsonschema<4.5,>=3.2->rasa) (3.8.1)\n",
            "Requirement already satisfied: kiwisolver>=1.0.1 in /usr/local/lib/python3.7/dist-packages (from matplotlib<3.4,>=3.1->rasa) (1.4.4)\n",
            "Requirement already satisfied: cycler>=0.10 in /usr/local/lib/python3.7/dist-packages (from matplotlib<3.4,>=3.1->rasa) (0.11.0)\n",
            "Requirement already satisfied: pyparsing!=2.0.4,!=2.1.2,!=2.1.6,>=2.0.1 in /usr/local/lib/python3.7/dist-packages (from matplotlib<3.4,>=3.1->rasa) (3.0.9)\n",
            "Requirement already satisfied: locket in /usr/local/lib/python3.7/dist-packages (from partd>=0.3.10->dask==2022.2.0->rasa) (1.0.0)\n",
            "Requirement already satisfied: wcwidth in /usr/local/lib/python3.7/dist-packages (from prompt-toolkit<3.0.29,>=3.0->rasa) (0.2.5)\n",
            "Requirement already satisfied: pyasn1<0.5.0,>=0.4.6 in /usr/local/lib/python3.7/dist-packages (from pyasn1-modules>=0.2.1->google-auth<2->rasa) (0.4.8)\n",
            "Collecting cryptography>=3.3.1\n",
            "  Downloading cryptography-38.0.1-cp36-abi3-manylinux_2_24_x86_64.whl (4.0 MB)\n",
            "\u001b[K     |████████████████████████████████| 4.0 MB 56.4 MB/s \n",
            "\u001b[?25hRequirement already satisfied: cffi>=1.12 in /usr/local/lib/python3.7/dist-packages (from cryptography>=3.3.1->PyJWT[crypto]<3.0.0,>=2.0.0->rasa) (1.15.1)\n",
            "Requirement already satisfied: pycparser in /usr/local/lib/python3.7/dist-packages (from cffi>=1.12->cryptography>=3.3.1->PyJWT[crypto]<3.0.0,>=2.0.0->rasa) (2.21)\n",
            "Collecting docopt>=0.6.2\n",
            "  Downloading docopt-0.6.2.tar.gz (25 kB)\n",
            "Collecting dnspython<2.0.0,>=1.16.0\n",
            "  Downloading dnspython-1.16.0-py2.py3-none-any.whl (188 kB)\n",
            "\u001b[K     |████████████████████████████████| 188 kB 61.6 MB/s \n",
            "\u001b[?25hCollecting bidict>=0.21.0\n",
            "  Downloading bidict-0.22.0-py3-none-any.whl (36 kB)\n",
            "Collecting fire\n",
            "  Downloading fire-0.4.0.tar.gz (87 kB)\n",
            "\u001b[K     |████████████████████████████████| 87 kB 7.8 MB/s \n",
            "\u001b[?25hRequirement already satisfied: certifi>=2017.4.17 in /usr/local/lib/python3.7/dist-packages (from requests<3.0,>=2.23->rasa) (2022.6.15)\n",
            "Collecting requests<3.0,>=2.23\n",
            "  Downloading requests-2.28.1-py3-none-any.whl (62 kB)\n",
            "\u001b[K     |████████████████████████████████| 62 kB 1.6 MB/s \n",
            "\u001b[?25hRequirement already satisfied: charset-normalizer<3,>=2 in /usr/local/lib/python3.7/dist-packages (from requests<3.0,>=2.23->rasa) (2.1.1)\n",
            "Requirement already satisfied: idna<4,>=2.5 in /usr/local/lib/python3.7/dist-packages (from requests<3.0,>=2.23->rasa) (2.10)\n",
            "Collecting ruamel.yaml.clib>=0.1.2\n",
            "  Downloading ruamel.yaml.clib-0.2.6-cp37-cp37m-manylinux1_x86_64.whl (546 kB)\n",
            "\u001b[K     |████████████████████████████████| 546 kB 65.6 MB/s \n",
            "\u001b[?25hCollecting httptools>=0.0.10\n",
            "  Downloading httptools-0.4.0-cp37-cp37m-manylinux_2_5_x86_64.manylinux1_x86_64.manylinux_2_12_x86_64.manylinux2010_x86_64.whl (406 kB)\n",
            "\u001b[K     |████████████████████████████████| 406 kB 42.9 MB/s \n",
            "\u001b[?25hCollecting aiofiles>=0.6.0\n",
            "  Downloading aiofiles-22.1.0-py3-none-any.whl (14 kB)\n",
            "Collecting uvloop>=0.5.3\n",
            "  Downloading uvloop-0.16.0-cp37-cp37m-manylinux_2_12_x86_64.manylinux2010_x86_64.whl (3.8 MB)\n",
            "\u001b[K     |████████████████████████████████| 3.8 MB 55.9 MB/s \n",
            "\u001b[?25hCollecting multidict<7.0,>=4.5\n",
            "  Downloading multidict-5.2.0-cp37-cp37m-manylinux_2_5_x86_64.manylinux1_x86_64.manylinux_2_12_x86_64.manylinux2010_x86_64.whl (160 kB)\n",
            "\u001b[K     |████████████████████████████████| 160 kB 65.0 MB/s \n",
            "\u001b[?25hCollecting websockets>=10.0\n",
            "  Downloading websockets-10.3-cp37-cp37m-manylinux_2_5_x86_64.manylinux1_x86_64.manylinux_2_12_x86_64.manylinux2010_x86_64.whl (112 kB)\n",
            "\u001b[K     |████████████████████████████████| 112 kB 70.8 MB/s \n",
            "\u001b[?25hRequirement already satisfied: threadpoolctl>=2.0.0 in /usr/local/lib/python3.7/dist-packages (from scikit-learn<0.25,>=0.22->rasa) (3.1.0)\n",
            "Requirement already satisfied: tabulate in /usr/local/lib/python3.7/dist-packages (from sklearn-crfsuite<0.4,>=0.3->rasa) (0.8.10)\n",
            "Collecting python-crfsuite>=0.8.3\n",
            "  Downloading python_crfsuite-0.9.8-cp37-cp37m-manylinux_2_17_x86_64.manylinux2014_x86_64.whl (965 kB)\n",
            "\u001b[K     |████████████████████████████████| 965 kB 66.4 MB/s \n",
            "\u001b[?25hRequirement already satisfied: greenlet!=0.4.17 in /usr/local/lib/python3.7/dist-packages (from SQLAlchemy<1.5.0,>=1.4.0->rasa) (1.1.3)\n",
            "Requirement already satisfied: h5py>=2.9.0 in /usr/local/lib/python3.7/dist-packages (from tensorflow<2.8.0,>=2.7.0->rasa) (3.1.0)\n",
            "Requirement already satisfied: astunparse>=1.6.0 in /usr/local/lib/python3.7/dist-packages (from tensorflow<2.8.0,>=2.7.0->rasa) (1.6.3)\n",
            "Collecting gast<0.5.0,>=0.2.1\n",
            "  Downloading gast-0.4.0-py3-none-any.whl (9.8 kB)\n",
            "Requirement already satisfied: grpcio<2.0,>=1.24.3 in /usr/local/lib/python3.7/dist-packages (from tensorflow<2.8.0,>=2.7.0->rasa) (1.47.0)\n",
            "Requirement already satisfied: keras-preprocessing>=1.1.1 in /usr/local/lib/python3.7/dist-packages (from tensorflow<2.8.0,>=2.7.0->rasa) (1.1.2)\n",
            "Collecting tensorflow-estimator<2.8,~=2.7.0rc0\n",
            "  Downloading tensorflow_estimator-2.7.0-py2.py3-none-any.whl (463 kB)\n",
            "\u001b[K     |████████████████████████████████| 463 kB 68.0 MB/s \n",
            "\u001b[?25hRequirement already satisfied: termcolor>=1.1.0 in /usr/local/lib/python3.7/dist-packages (from tensorflow<2.8.0,>=2.7.0->rasa) (1.1.0)\n",
            "Requirement already satisfied: wrapt>=1.11.0 in /usr/local/lib/python3.7/dist-packages (from tensorflow<2.8.0,>=2.7.0->rasa) (1.14.1)\n",
            "Requirement already satisfied: google-pasta>=0.1.1 in /usr/local/lib/python3.7/dist-packages (from tensorflow<2.8.0,>=2.7.0->rasa) (0.2.0)\n",
            "Requirement already satisfied: tensorflow-io-gcs-filesystem>=0.21.0 in /usr/local/lib/python3.7/dist-packages (from tensorflow<2.8.0,>=2.7.0->rasa) (0.26.0)\n",
            "Requirement already satisfied: tensorboard~=2.6 in /usr/local/lib/python3.7/dist-packages (from tensorflow<2.8.0,>=2.7.0->rasa) (2.8.0)\n",
            "Requirement already satisfied: libclang>=9.0.1 in /usr/local/lib/python3.7/dist-packages (from tensorflow<2.8.0,>=2.7.0->rasa) (14.0.6)\n",
            "Requirement already satisfied: opt-einsum>=2.3.2 in /usr/local/lib/python3.7/dist-packages (from tensorflow<2.8.0,>=2.7.0->rasa) (3.3.0)\n",
            "Requirement already satisfied: flatbuffers<3.0,>=1.12 in /usr/local/lib/python3.7/dist-packages (from tensorflow<2.8.0,>=2.7.0->rasa) (2.0.7)\n",
            "Collecting keras<2.8,>=2.7.0rc0\n",
            "  Downloading keras-2.7.0-py2.py3-none-any.whl (1.3 MB)\n",
            "\u001b[K     |████████████████████████████████| 1.3 MB 58.0 MB/s \n",
            "\u001b[?25hRequirement already satisfied: wheel<1.0,>=0.32.0 in /usr/local/lib/python3.7/dist-packages (from tensorflow<2.8.0,>=2.7.0->rasa) (0.37.1)\n",
            "Requirement already satisfied: protobuf<3.20,>=3.9.2 in /usr/local/lib/python3.7/dist-packages (from tensorflow<2.8.0,>=2.7.0->rasa) (3.17.3)\n",
            "Requirement already satisfied: cached-property in /usr/local/lib/python3.7/dist-packages (from h5py>=2.9.0->tensorflow<2.8.0,>=2.7.0->rasa) (1.5.2)\n",
            "Requirement already satisfied: tensorboard-data-server<0.7.0,>=0.6.0 in /usr/local/lib/python3.7/dist-packages (from tensorboard~=2.6->tensorflow<2.8.0,>=2.7.0->rasa) (0.6.1)\n",
            "Requirement already satisfied: google-auth-oauthlib<0.5,>=0.4.1 in /usr/local/lib/python3.7/dist-packages (from tensorboard~=2.6->tensorflow<2.8.0,>=2.7.0->rasa) (0.4.6)\n",
            "Requirement already satisfied: tensorboard-plugin-wit>=1.6.0 in /usr/local/lib/python3.7/dist-packages (from tensorboard~=2.6->tensorflow<2.8.0,>=2.7.0->rasa) (1.8.1)\n",
            "Requirement already satisfied: werkzeug>=0.11.15 in /usr/local/lib/python3.7/dist-packages (from tensorboard~=2.6->tensorflow<2.8.0,>=2.7.0->rasa) (1.0.1)\n",
            "Requirement already satisfied: markdown>=2.6.8 in /usr/local/lib/python3.7/dist-packages (from tensorboard~=2.6->tensorflow<2.8.0,>=2.7.0->rasa) (3.4.1)\n",
            "Requirement already satisfied: requests-oauthlib>=0.7.0 in /usr/local/lib/python3.7/dist-packages (from google-auth-oauthlib<0.5,>=0.4.1->tensorboard~=2.6->tensorflow<2.8.0,>=2.7.0->rasa) (1.3.1)\n",
            "Requirement already satisfied: oauthlib>=3.0.0 in /usr/local/lib/python3.7/dist-packages (from requests-oauthlib>=0.7.0->google-auth-oauthlib<0.5,>=0.4.1->tensorboard~=2.6->tensorflow<2.8.0,>=2.7.0->rasa) (3.2.0)\n",
            "Requirement already satisfied: typeguard>=2.7 in /usr/local/lib/python3.7/dist-packages (from tensorflow-addons<0.16.0,>=0.15.0->rasa) (2.7.1)\n",
            "Requirement already satisfied: future in /usr/local/lib/python3.7/dist-packages (from webexteamssdk<1.7.0,>=1.1.1->rasa) (0.16.0)\n",
            "Collecting requests-toolbelt\n",
            "  Downloading requests_toolbelt-0.9.1-py2.py3-none-any.whl (54 kB)\n",
            "\u001b[K     |████████████████████████████████| 54 kB 3.4 MB/s \n",
            "\u001b[?25hBuilding wheels for collected packages: aiormq, pamqp, mattermostwrapper, docopt, pyTelegramBotAPI, randomname, twilio, fire\n",
            "  Building wheel for aiormq (setup.py) ... \u001b[?25l\u001b[?25hdone\n",
            "  Created wheel for aiormq: filename=aiormq-6.4.1-py3-none-any.whl size=34353 sha256=7a399c48b801f0d63bfcffe394e9f16267d755aac361eb46cf656eb384befc21\n",
            "  Stored in directory: /root/.cache/pip/wheels/9e/21/03/f68ea11e0e807393792cddf1db79a9fad34f01c34de1a96c42\n",
            "  Building wheel for pamqp (setup.py) ... \u001b[?25l\u001b[?25hdone\n",
            "  Created wheel for pamqp: filename=pamqp-3.2.0-py3-none-any.whl size=33777 sha256=1f866793c7c9d6988291816f4bb3d6b9c315527a9cb012ee120ba707e318b9e6\n",
            "  Stored in directory: /root/.cache/pip/wheels/e4/b4/c6/5d5f2bb2c15e19f774cc8735e39173e17e02e7b1873c5b0735\n",
            "  Building wheel for mattermostwrapper (setup.py) ... \u001b[?25l\u001b[?25hdone\n",
            "  Created wheel for mattermostwrapper: filename=mattermostwrapper-2.2-py3-none-any.whl size=2465 sha256=8145e7b775aca3856b9a42ae1afe59027b5f0e0e8991c28bd33990b322b251a2\n",
            "  Stored in directory: /root/.cache/pip/wheels/b9/70/77/6c3f3c9a6f096f765d0767b21e73598d66c3b79cb7b09b62ad\n",
            "  Building wheel for docopt (setup.py) ... \u001b[?25l\u001b[?25hdone\n",
            "  Created wheel for docopt: filename=docopt-0.6.2-py2.py3-none-any.whl size=13723 sha256=40c3ae2ef256f0337df9d378f99da06a4badd48405dc4df6118e7f1fe7c14472\n",
            "  Stored in directory: /root/.cache/pip/wheels/72/b0/3f/1d95f96ff986c7dfffe46ce2be4062f38ebd04b506c77c81b9\n",
            "  Building wheel for pyTelegramBotAPI (setup.py) ... \u001b[?25l\u001b[?25hdone\n",
            "  Created wheel for pyTelegramBotAPI: filename=pyTelegramBotAPI-4.7.0-py3-none-any.whl size=192826 sha256=56c70a473a771909861f6a95bbccda7c0f626df24982255fe24c26387e18fa85\n",
            "  Stored in directory: /root/.cache/pip/wheels/ba/13/da/8abf941f7cf9f993cde6118a56a7c24e12ed791507acd8ea39\n",
            "  Building wheel for randomname (setup.py) ... \u001b[?25l\u001b[?25hdone\n",
            "  Created wheel for randomname: filename=randomname-0.1.5-py3-none-any.whl size=58824 sha256=e4ded1bf919a565775912e819328b86fed3e629ddcb68febc0958b8a67d72a8d\n",
            "  Stored in directory: /root/.cache/pip/wheels/3a/8f/76/d6389e00a44d2edd9a18659132d574e6032e4cb9b5b5586509\n",
            "  Building wheel for twilio (setup.py) ... \u001b[?25l\u001b[?25hdone\n",
            "  Created wheel for twilio: filename=twilio-6.50.1-py2.py3-none-any.whl size=1208700 sha256=a8564a6be87c5c95356e0cff89463000aca51aa897a715da225377d80245a659\n",
            "  Stored in directory: /root/.cache/pip/wheels/12/35/de/537f7f674cf07861353c8e48809ccab2f657d55c8cc2d2699c\n",
            "  Building wheel for fire (setup.py) ... \u001b[?25l\u001b[?25hdone\n",
            "  Created wheel for fire: filename=fire-0.4.0-py2.py3-none-any.whl size=115942 sha256=e881f206195efc6f1888b18dc78a0239147d605e5763c385a0f61a7663fccda7\n",
            "  Stored in directory: /root/.cache/pip/wheels/8a/67/fb/2e8a12fa16661b9d5af1f654bd199366799740a85c64981226\n",
            "Successfully built aiormq pamqp mattermostwrapper docopt pyTelegramBotAPI randomname twilio fire\n",
            "Installing collected packages: urllib3, typing-extensions, requests, websockets, uvloop, sanic-routing, numpy, multidict, jmespath, httptools, aiofiles, absl-py, tensorflow-estimator, sanic, ruamel.yaml.clib, pytz, pamqp, keras, humanfriendly, gast, botocore, attrs, async-timeout, tzlocal, tensorflow, sanic-cors, s3transfer, ruamel.yaml, requests-toolbelt, python-engineio, python-crfsuite, pymongo, PyJWT, prompt-toolkit, packaging, joblib, fire, docopt, dnspython, cryptography, coloredlogs, bidict, aiormq, aiohttp, webexteamssdk, typing-utils, twilio, terminaltables, tensorflow-text, tensorflow-addons, tarsafe, slackclient, sklearn-crfsuite, sentry-sdk, scikit-learn, sanic-jwt, rocketchat-API, regex, redis, rasa-sdk, randomname, questionary, python-socketio, pyTelegramBotAPI, pykwalify, pydot, psycopg2-binary, mattermostwrapper, kafka-python, jsonpickle, fbmessenger, colorhash, colorclass, boto3, apscheduler, aio-pika, rasa\n",
            "  Attempting uninstall: urllib3\n",
            "    Found existing installation: urllib3 1.24.3\n",
            "    Uninstalling urllib3-1.24.3:\n",
            "      Successfully uninstalled urllib3-1.24.3\n",
            "  Attempting uninstall: typing-extensions\n",
            "    Found existing installation: typing-extensions 4.1.1\n",
            "    Uninstalling typing-extensions-4.1.1:\n",
            "      Successfully uninstalled typing-extensions-4.1.1\n",
            "  Attempting uninstall: requests\n",
            "    Found existing installation: requests 2.23.0\n",
            "    Uninstalling requests-2.23.0:\n",
            "      Successfully uninstalled requests-2.23.0\n",
            "  Attempting uninstall: numpy\n",
            "    Found existing installation: numpy 1.21.6\n",
            "    Uninstalling numpy-1.21.6:\n",
            "      Successfully uninstalled numpy-1.21.6\n",
            "  Attempting uninstall: multidict\n",
            "    Found existing installation: multidict 6.0.2\n",
            "    Uninstalling multidict-6.0.2:\n",
            "      Successfully uninstalled multidict-6.0.2\n",
            "  Attempting uninstall: absl-py\n",
            "    Found existing installation: absl-py 1.2.0\n",
            "    Uninstalling absl-py-1.2.0:\n",
            "      Successfully uninstalled absl-py-1.2.0\n",
            "  Attempting uninstall: tensorflow-estimator\n",
            "    Found existing installation: tensorflow-estimator 2.8.0\n",
            "    Uninstalling tensorflow-estimator-2.8.0:\n",
            "      Successfully uninstalled tensorflow-estimator-2.8.0\n",
            "  Attempting uninstall: pytz\n",
            "    Found existing installation: pytz 2022.2.1\n",
            "    Uninstalling pytz-2022.2.1:\n",
            "      Successfully uninstalled pytz-2022.2.1\n",
            "  Attempting uninstall: keras\n",
            "    Found existing installation: keras 2.8.0\n",
            "    Uninstalling keras-2.8.0:\n",
            "      Successfully uninstalled keras-2.8.0\n",
            "  Attempting uninstall: gast\n",
            "    Found existing installation: gast 0.5.3\n",
            "    Uninstalling gast-0.5.3:\n",
            "      Successfully uninstalled gast-0.5.3\n",
            "  Attempting uninstall: attrs\n",
            "    Found existing installation: attrs 22.1.0\n",
            "    Uninstalling attrs-22.1.0:\n",
            "      Successfully uninstalled attrs-22.1.0\n",
            "  Attempting uninstall: async-timeout\n",
            "    Found existing installation: async-timeout 4.0.2\n",
            "    Uninstalling async-timeout-4.0.2:\n",
            "      Successfully uninstalled async-timeout-4.0.2\n",
            "  Attempting uninstall: tzlocal\n",
            "    Found existing installation: tzlocal 1.5.1\n",
            "    Uninstalling tzlocal-1.5.1:\n",
            "      Successfully uninstalled tzlocal-1.5.1\n",
            "  Attempting uninstall: tensorflow\n",
            "    Found existing installation: tensorflow 2.8.2+zzzcolab20220719082949\n",
            "    Uninstalling tensorflow-2.8.2+zzzcolab20220719082949:\n",
            "      Successfully uninstalled tensorflow-2.8.2+zzzcolab20220719082949\n",
            "  Attempting uninstall: pymongo\n",
            "    Found existing installation: pymongo 4.2.0\n",
            "    Uninstalling pymongo-4.2.0:\n",
            "      Successfully uninstalled pymongo-4.2.0\n",
            "  Attempting uninstall: prompt-toolkit\n",
            "    Found existing installation: prompt-toolkit 2.0.10\n",
            "    Uninstalling prompt-toolkit-2.0.10:\n",
            "      Successfully uninstalled prompt-toolkit-2.0.10\n",
            "  Attempting uninstall: packaging\n",
            "    Found existing installation: packaging 21.3\n",
            "    Uninstalling packaging-21.3:\n",
            "      Successfully uninstalled packaging-21.3\n",
            "  Attempting uninstall: joblib\n",
            "    Found existing installation: joblib 1.1.0\n",
            "    Uninstalling joblib-1.1.0:\n",
            "      Successfully uninstalled joblib-1.1.0\n",
            "  Attempting uninstall: aiohttp\n",
            "    Found existing installation: aiohttp 3.8.1\n",
            "    Uninstalling aiohttp-3.8.1:\n",
            "      Successfully uninstalled aiohttp-3.8.1\n",
            "  Attempting uninstall: scikit-learn\n",
            "    Found existing installation: scikit-learn 1.0.2\n",
            "    Uninstalling scikit-learn-1.0.2:\n",
            "      Successfully uninstalled scikit-learn-1.0.2\n",
            "  Attempting uninstall: regex\n",
            "    Found existing installation: regex 2022.6.2\n",
            "    Uninstalling regex-2022.6.2:\n",
            "      Successfully uninstalled regex-2022.6.2\n",
            "  Attempting uninstall: pydot\n",
            "    Found existing installation: pydot 1.3.0\n",
            "    Uninstalling pydot-1.3.0:\n",
            "      Successfully uninstalled pydot-1.3.0\n",
            "\u001b[31mERROR: pip's dependency resolver does not currently take into account all the packages that are installed. This behaviour is the source of the following dependency conflicts.\n",
            "ipython 7.9.0 requires jedi>=0.10, which is not installed.\n",
            "yellowbrick 1.5 requires scikit-learn>=1.0.0, but you have scikit-learn 0.24.2 which is incompatible.\n",
            "xarray-einstats 0.2.2 requires numpy>=1.21, but you have numpy 1.19.5 which is incompatible.\n",
            "jax 0.3.17 requires numpy>=1.20, but you have numpy 1.19.5 which is incompatible.\n",
            "ipython 7.9.0 requires prompt-toolkit<2.1.0,>=2.0.0, but you have prompt-toolkit 3.0.28 which is incompatible.\n",
            "cmdstanpy 1.0.7 requires numpy>=1.21, but you have numpy 1.19.5 which is incompatible.\u001b[0m\n",
            "Successfully installed PyJWT-2.4.0 absl-py-0.13.0 aio-pika-8.2.0 aiofiles-22.1.0 aiohttp-3.7.4 aiormq-6.4.1 apscheduler-3.7.0 async-timeout-3.0.1 attrs-21.2.0 bidict-0.22.0 boto3-1.24.70 botocore-1.27.70 colorclass-2.2.2 coloredlogs-15.0.1 colorhash-1.0.4 cryptography-38.0.1 dnspython-1.16.0 docopt-0.6.2 fbmessenger-6.0.0 fire-0.4.0 gast-0.4.0 httptools-0.4.0 humanfriendly-10.0 jmespath-1.0.1 joblib-1.0.1 jsonpickle-2.0.0 kafka-python-2.0.2 keras-2.7.0 mattermostwrapper-2.2 multidict-5.2.0 numpy-1.19.5 packaging-20.9 pamqp-3.2.0 prompt-toolkit-3.0.28 psycopg2-binary-2.9.3 pyTelegramBotAPI-4.7.0 pydot-1.4.2 pykwalify-1.8.0 pymongo-3.10.1 python-crfsuite-0.9.8 python-engineio-4.3.4 python-socketio-5.7.1 pytz-2021.3 questionary-1.10.0 randomname-0.1.5 rasa-3.2.8 rasa-sdk-3.2.1 redis-3.5.3 regex-2022.4.24 requests-2.28.1 requests-toolbelt-0.9.1 rocketchat-API-1.25.0 ruamel.yaml-0.16.13 ruamel.yaml.clib-0.2.6 s3transfer-0.6.0 sanic-21.12.2 sanic-cors-2.0.1 sanic-jwt-1.8.0 sanic-routing-0.7.2 scikit-learn-0.24.2 sentry-sdk-1.3.1 sklearn-crfsuite-0.3.6 slackclient-2.9.4 tarsafe-0.0.3 tensorflow-2.7.4 tensorflow-addons-0.15.0 tensorflow-estimator-2.7.0 tensorflow-text-2.7.3 terminaltables-3.1.10 twilio-6.50.1 typing-extensions-3.10.0.2 typing-utils-0.1.0 tzlocal-2.1 urllib3-1.26.12 uvloop-0.16.0 webexteamssdk-1.6.1 websockets-10.3\n"
          ]
        },
        {
          "data": {
            "application/vnd.colab-display-data+json": {
              "pip_warning": {
                "packages": [
                  "numpy",
                  "packaging",
                  "prompt_toolkit",
                  "pytz",
                  "requests",
                  "typing_extensions",
                  "urllib3"
                ]
              }
            }
          },
          "metadata": {},
          "output_type": "display_data"
        }
      ],
      "source": [
        "!pip uninstall rasa\n",
        "!pip install rasa\n"
      ]
    },
    {
      "cell_type": "code",
      "execution_count": null,
      "metadata": {
        "colab": {
          "base_uri": "https://localhost:8080/"
        },
        "id": "H-kyPP9w44Gb",
        "outputId": "46baf266-d5e6-4709-e2a3-4885efa738a0"
      },
      "outputs": [
        {
          "name": "stdout",
          "output_type": "stream",
          "text": [
            "Looking in indexes: https://pypi.org/simple, https://us-python.pkg.dev/colab-wheels/public/simple/\n",
            "Requirement already satisfied: ipython in /usr/local/lib/python3.7/dist-packages (7.34.0)\n",
            "Requirement already satisfied: traitlets>=4.2 in /usr/local/lib/python3.7/dist-packages (from ipython) (5.1.1)\n",
            "Requirement already satisfied: setuptools>=18.5 in /usr/local/lib/python3.7/dist-packages (from ipython) (57.4.0)\n",
            "Requirement already satisfied: decorator in /usr/local/lib/python3.7/dist-packages (from ipython) (4.4.2)\n",
            "Requirement already satisfied: jedi>=0.16 in /usr/local/lib/python3.7/dist-packages (from ipython) (0.18.1)\n",
            "Requirement already satisfied: pexpect>4.3 in /usr/local/lib/python3.7/dist-packages (from ipython) (4.8.0)\n",
            "Requirement already satisfied: backcall in /usr/local/lib/python3.7/dist-packages (from ipython) (0.2.0)\n",
            "Requirement already satisfied: matplotlib-inline in /usr/local/lib/python3.7/dist-packages (from ipython) (0.1.6)\n",
            "Requirement already satisfied: pickleshare in /usr/local/lib/python3.7/dist-packages (from ipython) (0.7.5)\n",
            "Requirement already satisfied: prompt-toolkit!=3.0.0,!=3.0.1,<3.1.0,>=2.0.0 in /usr/local/lib/python3.7/dist-packages (from ipython) (3.0.28)\n",
            "Requirement already satisfied: pygments in /usr/local/lib/python3.7/dist-packages (from ipython) (2.6.1)\n",
            "Requirement already satisfied: parso<0.9.0,>=0.8.0 in /usr/local/lib/python3.7/dist-packages (from jedi>=0.16->ipython) (0.8.3)\n",
            "Requirement already satisfied: ptyprocess>=0.5 in /usr/local/lib/python3.7/dist-packages (from pexpect>4.3->ipython) (0.7.0)\n",
            "Requirement already satisfied: wcwidth in /usr/local/lib/python3.7/dist-packages (from prompt-toolkit!=3.0.0,!=3.0.1,<3.1.0,>=2.0.0->ipython) (0.2.5)\n"
          ]
        }
      ],
      "source": [
        "pip install -U ipython"
      ]
    },
    {
      "cell_type": "code",
      "execution_count": null,
      "metadata": {
        "id": "i666g6n3DzVX"
      },
      "outputs": [],
      "source": [
        "# !rasa init"
      ]
    },
    {
      "cell_type": "code",
      "execution_count": null,
      "metadata": {
        "id": "QUSH42uvhSf4"
      },
      "outputs": [],
      "source": [
        "import pandas as pd\n",
        "data1 = {'order_id': ['ABC123', 'abc123', 'xyz123', 'XYZ123'],\n",
        "        'place': ['Birmingham', 'London', 'Manchester', 'Newcastle'],\n",
        "         'time': [1, 2, 3, 4],\n",
        "         'return_time': [4, 3, 2, 1]}\n",
        "data2 = {'items': ['bag', 'top', 'dress', 'jeans'],\n",
        "        'units': [5, 0, 2, 8]}\n",
        "\n",
        "df1 = pd.DataFrame(data1)\n",
        "df2 = pd.DataFrame(data2)\n",
        "df1.to_csv('database.csv', index=False)\n",
        "df2.to_csv('stock.csv', index=False)"
      ]
    },
    {
      "cell_type": "code",
      "execution_count": null,
      "metadata": {
        "colab": {
          "base_uri": "https://localhost:8080/"
        },
        "id": "pLEhH7cCFnm8",
        "outputId": "f56bc62e-f4f8-4cc9-ca11-e3c0db326105"
      },
      "outputs": [
        {
          "name": "stdout",
          "output_type": "stream",
          "text": [
            "\u001b(0lqqqqqqqqqqqqqqqqqqqqqqqqqqqqqqqqqqqqqqqqqqqqqqqqqqqqqqqqqqqqqqqqqqqqqqqqqqqqqqqqk\u001b(B\n",
            "\u001b(0x\u001b(B Rasa Open Source reports anonymous usage telemetry to help improve the product \u001b(0x\u001b(B\n",
            "\u001b(0x\u001b(B for all its users.                                                             \u001b(0x\u001b(B\n",
            "\u001b(0x\u001b(B                                                                                \u001b(0x\u001b(B\n",
            "\u001b(0x\u001b(B If you'd like to opt-out, you can use `rasa telemetry disable`.                \u001b(0x\u001b(B\n",
            "\u001b(0x\u001b(B To learn more, check out https://rasa.com/docs/rasa/telemetry/telemetry.       \u001b(0x\u001b(B\n",
            "\u001b(0mqqqqqqqqqqqqqqqqqqqqqqqqqqqqqqqqqqqqqqqqqqqqqqqqqqqqqqqqqqqqqqqqqqqqqqqqqqqqqqqqj\u001b(B\n",
            "2022-09-11 22:36:44 \u001b[1;30mINFO    \u001b[0m \u001b[34mnumexpr.utils\u001b[0m  - NumExpr defaulting to 2 threads.\n",
            "/usr/local/lib/python3.7/dist-packages/tornado/httputil.py:107: DeprecationWarning: Using or importing the ABCs from 'collections' instead of from 'collections.abc' is deprecated since Python 3.3,and in 3.9 it will stop working\n",
            "  class HTTPHeaders(collections.MutableMapping):\n",
            "2022-09-11 22:36:45 \u001b[1;30mINFO    \u001b[0m \u001b[34mroot\u001b[0m  - Generating grammar tables from /usr/lib/python3.7/lib2to3/Grammar.txt\n",
            "2022-09-11 22:36:45 \u001b[1;30mINFO    \u001b[0m \u001b[34mroot\u001b[0m  - Generating grammar tables from /usr/lib/python3.7/lib2to3/PatternGrammar.txt\n",
            "/usr/local/lib/python3.7/dist-packages/past/types/oldstr.py:5: DeprecationWarning: Using or importing the ABCs from 'collections' instead of from 'collections.abc' is deprecated since Python 3.3,and in 3.9 it will stop working\n",
            "  from collections import Iterable\n",
            "/usr/local/lib/python3.7/dist-packages/past/builtins/misc.py:4: DeprecationWarning: Using or importing the ABCs from 'collections' instead of from 'collections.abc' is deprecated since Python 3.3,and in 3.9 it will stop working\n",
            "  from collections import Mapping\n",
            "\u001b[93m/usr/local/lib/python3.7/dist-packages/rasa/engine/recipes/recipe.py:36: FutureWarning: From Rasa Open Source 4.0.0 onwards it will be required to specify a recipe in your model configuration. Defaulting to recipe 'default.v1'.\n",
            "  \"From Rasa Open Source 4.0.0 onwards it will be required to specify \"\n",
            "\u001b[0m2022-09-11 22:37:07 \u001b[1;30mINFO    \u001b[0m \u001b[34mrasa.engine.training.hooks\u001b[0m  - Restored component 'LexicalSyntacticFeaturizer' from cache.\n",
            "2022-09-11 22:37:07 \u001b[1;30mINFO    \u001b[0m \u001b[34mrasa.engine.training.hooks\u001b[0m  - Restored component 'CountVectorsFeaturizer' from cache.\n",
            "2022-09-11 22:37:07 \u001b[1;30mINFO    \u001b[0m \u001b[34mrasa.engine.training.hooks\u001b[0m  - Restored component 'CountVectorsFeaturizer' from cache.\n",
            "2022-09-11 22:37:07 \u001b[1;30mINFO    \u001b[0m \u001b[34mrasa.engine.training.hooks\u001b[0m  - Starting to train component 'RegexEntityExtractor'.\n",
            "\u001b[93m/usr/local/lib/python3.7/dist-packages/rasa/shared/utils/io.py:98: UserWarning: No lookup tables or regexes defined in the training data that have a name equal to any entity in the training data. In order for this component to work you need to define valid lookup tables or regexes in the training data.\n",
            "\u001b[0m2022-09-11 22:37:07 \u001b[1;30mINFO    \u001b[0m \u001b[34mrasa.engine.training.hooks\u001b[0m  - Finished training component 'RegexEntityExtractor'.\n",
            "2022-09-11 22:37:07 \u001b[1;30mINFO    \u001b[0m \u001b[34mrasa.engine.training.hooks\u001b[0m  - Restored component 'DIETClassifier' from cache.\n",
            "2022-09-11 22:37:07 \u001b[1;30mINFO    \u001b[0m \u001b[34mrasa.engine.training.hooks\u001b[0m  - Restored component 'MemoizationPolicy' from cache.\n",
            "2022-09-11 22:37:07 \u001b[1;30mINFO    \u001b[0m \u001b[34mrasa.engine.training.hooks\u001b[0m  - Restored component 'RulePolicy' from cache.\n",
            "2022-09-11 22:37:07 \u001b[1;30mINFO    \u001b[0m \u001b[34mrasa.engine.training.hooks\u001b[0m  - Restored component 'TEDPolicy' from cache.\n",
            "\u001b[92mYour Rasa model is trained and saved at 'models/20220911-223650-navy-transom.tar.gz'.\u001b[0m\n"
          ]
        }
      ],
      "source": [
        "!rasa train"
      ]
    },
    {
      "cell_type": "code",
      "execution_count": null,
      "metadata": {
        "colab": {
          "base_uri": "https://localhost:8080/"
        },
        "id": "XR-sXcOxx3Pe",
        "outputId": "6961a620-4f7b-4c92-b34e-4165198592e3"
      },
      "outputs": [
        {
          "data": {
            "text/plain": [
              "[\"nohup: appending output to 'nohup.out'\"]"
            ]
          },
          "execution_count": 9,
          "metadata": {},
          "output_type": "execute_result"
        }
      ],
      "source": [
        "!!nohup rasa run actions &"
      ]
    },
    {
      "cell_type": "code",
      "execution_count": null,
      "metadata": {
        "colab": {
          "base_uri": "https://localhost:8080/"
        },
        "id": "x3xfDzRAuEuS",
        "outputId": "d4d1a191-65ee-4938-e790-c06299182d1a"
      },
      "outputs": [
        {
          "name": "stdout",
          "output_type": "stream",
          "text": [
            "2022-09-11 22:38:06 \u001b[1;30mINFO    \u001b[0m \u001b[34mnumexpr.utils\u001b[0m  - NumExpr defaulting to 2 threads.\n",
            "/usr/local/lib/python3.7/dist-packages/tornado/httputil.py:107: DeprecationWarning: Using or importing the ABCs from 'collections' instead of from 'collections.abc' is deprecated since Python 3.3,and in 3.9 it will stop working\n",
            "  class HTTPHeaders(collections.MutableMapping):\n",
            "2022-09-11 22:38:06 \u001b[1;30mINFO    \u001b[0m \u001b[34mroot\u001b[0m  - Generating grammar tables from /usr/lib/python3.7/lib2to3/Grammar.txt\n",
            "2022-09-11 22:38:06 \u001b[1;30mINFO    \u001b[0m \u001b[34mroot\u001b[0m  - Generating grammar tables from /usr/lib/python3.7/lib2to3/PatternGrammar.txt\n",
            "/usr/local/lib/python3.7/dist-packages/past/types/oldstr.py:5: DeprecationWarning: Using or importing the ABCs from 'collections' instead of from 'collections.abc' is deprecated since Python 3.3,and in 3.9 it will stop working\n",
            "  from collections import Iterable\n",
            "/usr/local/lib/python3.7/dist-packages/past/builtins/misc.py:4: DeprecationWarning: Using or importing the ABCs from 'collections' instead of from 'collections.abc' is deprecated since Python 3.3,and in 3.9 it will stop working\n",
            "  from collections import Mapping\n",
            "2022-09-11 22:38:09 \u001b[1;30mINFO    \u001b[0m \u001b[34mroot\u001b[0m  - Connecting to channel 'cmdline' which was specified by the '--connector' argument. Any other channels will be ignored. To connect to all given channels, omit the '--connector' argument.\n",
            "2022-09-11 22:38:09 \u001b[1;30mINFO    \u001b[0m \u001b[34mroot\u001b[0m  - Starting Rasa server on http://0.0.0.0:5005\n",
            "2022-09-11 22:38:10 \u001b[1;30mINFO    \u001b[0m \u001b[34mrasa.core.processor\u001b[0m  - Loading model models/20220911-223650-navy-transom.tar.gz...\n",
            "\u001b[93m/usr/local/lib/python3.7/dist-packages/rasa/utils/train_utils.py:531: UserWarning: constrain_similarities is set to `False`. It is recommended to set it to `True` when using cross-entropy loss.\n",
            "  category=UserWarning,\n",
            "\u001b[0m\u001b[93m/usr/local/lib/python3.7/dist-packages/rasa/shared/utils/io.py:98: UserWarning: Failed to load RegexEntityExtractor from model storage. This can happen if the model could not be trained because regexes could not be extracted from the given training data - and hence could not be persisted.\n",
            "\u001b[0m2022-09-11 22:38:58 \u001b[1;30mINFO    \u001b[0m \u001b[34mroot\u001b[0m  - Rasa server is up and running.\n",
            "\u001b[92mBot loaded. Type a message and press enter (use '/stop' to exit): \u001b[0m\n",
            "\u001b[15C\u001b[?7h\u001b[0m\u001b[?12l\u001b[?25h\u001b[15D\u001b[J\u001b[0m\u001b[?7h\u001b[?2004lWARNING: your terminal doesn't support cursor position requests (CPR).\n",
            "\u001b[0m\n",
            "\u001b[J\u001b[?7h\u001b[0m\u001b[?12l\u001b[?25h\u001b[?2004l\u001b[93m/usr/local/lib/python3.7/dist-packages/rasa/shared/utils/io.py:98: UserWarning: The RegexEntityExtractor has not been trained properly yet. Continuing without extracting entities via this extractor.\n",
            "\u001b[0m\u001b[94mHey! How are you?\u001b[0m\n",
            "\u001b[15C\u001b[?7h\u001b[0m\u001b[?12l\u001b[?25h\u001b[15D\u001b[J\u001b[0m\u001b[?7h\u001b[?2004lWARNING: your terminal doesn't support cursor position requests (CPR).\n",
            "\u001b[0m\n",
            "\u001b[J\u001b[?7h\u001b[0m\u001b[?12l\u001b[?25h\u001b[?2004l\u001b[94mWhat is your order ID?\u001b[0m\n",
            "\u001b[15C\u001b[?7h\u001b[0m\u001b[?12l\u001b[?25h\u001b[15D\u001b[J\u001b[0m\u001b[?7h\u001b[?2004lWARNING: your terminal doesn't support cursor position requests (CPR).\n",
            "\u001b[0m\n",
            "\u001b[15C\u001b[?7h\u001b[0m\u001b[?12l\u001b[?25h\u001b[15D\u001b[J\u001b[0m\u001b[?7h\u001b[?2004lWARNING: your terminal doesn't support cursor position requests (CPR).\n",
            "\u001b[0m\n",
            "\u001b[15C\u001b[?7h\u001b[0m\u001b[?12l\u001b[?25h\u001b[15D\u001b[J\u001b[0m\u001b[?7h\u001b[?2004lWARNING: your terminal doesn't support cursor position requests (CPR).\n",
            "\u001b[0m\n",
            "\u001b[J\u001b[?7h\u001b[0m\u001b[?12l\u001b[?25h\u001b[?2004l\u001b[94mYou have entered the wrong order id - None.\u001b[0m\n",
            "\u001b[15C\u001b[?7h\u001b[0m\u001b[?12l\u001b[?25h\u001b[15D\u001b[J\u001b[0m\u001b[?7h\u001b[?2004lWARNING: your terminal doesn't support cursor position requests (CPR).\n",
            "\u001b[0m\n",
            "\u001b[15C\u001b[?7h\u001b[0m\u001b[?12l\u001b[?25h\u001b[15D\u001b[J\u001b[0m\u001b[?7h\u001b[?2004lWARNING: your terminal doesn't support cursor position requests (CPR).\n",
            "\u001b[0m\n",
            "\u001b[J\u001b[?7h\u001b[0m\u001b[?12l\u001b[?25h\u001b[?2004l\u001b[94mWhat is your order ID?\u001b[0m\n",
            "\u001b[15C\u001b[?7h\u001b[0m\u001b[?12l\u001b[?25h\u001b[15D\u001b[J\u001b[0m\u001b[?7h\u001b[?2004lWARNING: your terminal doesn't support cursor position requests (CPR).\n",
            "\u001b[0m\n",
            "\u001b[15C\u001b[?7h\u001b[0m\u001b[?12l\u001b[?25h\u001b[15D\u001b[J\u001b[0m\u001b[?7h\u001b[?2004lWARNING: your terminal doesn't support cursor position requests (CPR).\n",
            "\u001b[0m\n",
            "\u001b[J\u001b[?7h\u001b[0m\u001b[?12l\u001b[?25h\u001b[?2004l\u001b[94mYour order is currently in Birmingham and will be delivered in 1 days.\u001b[0m\n",
            "\u001b[15C\u001b[?7h\u001b[0m\u001b[?12l\u001b[?25h\u001b[15D\u001b[J\u001b[0m\u001b[?7h\u001b[?2004lWARNING: your terminal doesn't support cursor position requests (CPR).\n",
            "\u001b[0m\n",
            "\u001b[15C\u001b[?7h\u001b[0m\u001b[?12l\u001b[?25h\u001b[15D\u001b[J\u001b[0m\u001b[?7h\u001b[?2004lWARNING: your terminal doesn't support cursor position requests (CPR).\n",
            "\u001b[0m\n",
            "\u001b[J\u001b[?7h\u001b[0m\u001b[?12l\u001b[?25h\u001b[?2004l\u001b[94mGreat, carry on!\u001b[0m\n",
            "\u001b[15C\u001b[?7h\u001b[0m\u001b[?12l\u001b[?25h\u001b[15D\u001b[J\u001b[0m\u001b[?7h\u001b[?2004lWARNING: your terminal doesn't support cursor position requests (CPR).\n",
            "\u001b[0m\n",
            "\u001b[J\u001b[?7h\u001b[0m\u001b[?12l\u001b[?25h\u001b[?2004l\u001b[94mGreat, carry on!\u001b[0m\n",
            "\u001b[15C\u001b[?7h\u001b[0m\u001b[?12l\u001b[?25h\u001b[15D\u001b[J\u001b[0m\u001b[?7h\u001b[?2004lWARNING: your terminal doesn't support cursor position requests (CPR).\n",
            "\u001b[0m\n",
            "\u001b[J\u001b[?7h\u001b[0m\u001b[?12l\u001b[?25h\u001b[?2004l2022-09-11 22:55:21 \u001b[1;30mINFO    \u001b[0m \u001b[34mroot\u001b[0m  - Killing Sanic server now.\n"
          ]
        }
      ],
      "source": [
        "!rasa shell"
      ]
    },
    {
      "cell_type": "code",
      "execution_count": null,
      "metadata": {
        "colab": {
          "base_uri": "https://localhost:8080/"
        },
        "id": "PXaG4nhFwHzn",
        "outputId": "9b2d9bda-6267-4443-a2bd-39926603eab0"
      },
      "outputs": [
        {
          "name": "stdout",
          "output_type": "stream",
          "text": [
            "2022-09-06 15:32:43 \u001b[1;30mINFO    \u001b[0m \u001b[34mnumexpr.utils\u001b[0m  - NumExpr defaulting to 2 threads.\n",
            "/usr/local/lib/python3.7/dist-packages/tornado/httputil.py:107: DeprecationWarning: Using or importing the ABCs from 'collections' instead of from 'collections.abc' is deprecated since Python 3.3,and in 3.9 it will stop working\n",
            "  class HTTPHeaders(collections.MutableMapping):\n",
            "2022-09-06 15:32:43 \u001b[1;30mINFO    \u001b[0m \u001b[34mroot\u001b[0m  - Generating grammar tables from /usr/lib/python3.7/lib2to3/Grammar.txt\n",
            "2022-09-06 15:32:43 \u001b[1;30mINFO    \u001b[0m \u001b[34mroot\u001b[0m  - Generating grammar tables from /usr/lib/python3.7/lib2to3/PatternGrammar.txt\n",
            "/usr/local/lib/python3.7/dist-packages/past/types/oldstr.py:5: DeprecationWarning: Using or importing the ABCs from 'collections' instead of from 'collections.abc' is deprecated since Python 3.3,and in 3.9 it will stop working\n",
            "  from collections import Iterable\n",
            "/usr/local/lib/python3.7/dist-packages/past/builtins/misc.py:4: DeprecationWarning: Using or importing the ABCs from 'collections' instead of from 'collections.abc' is deprecated since Python 3.3,and in 3.9 it will stop working\n",
            "  from collections import Mapping\n",
            "\u001b[93m/usr/local/lib/python3.7/dist-packages/rasa/engine/recipes/recipe.py:36: FutureWarning: From Rasa Open Source 4.0.0 onwards it will be required to specify a recipe in your model configuration. Defaulting to recipe 'default.v1'.\n",
            "  \"From Rasa Open Source 4.0.0 onwards it will be required to specify \"\n",
            "\u001b[0m2022-09-06 15:32:46 \u001b[1;30mINFO    \u001b[0m \u001b[34mrasa.engine.training.hooks\u001b[0m  - Restored component 'LexicalSyntacticFeaturizer' from cache.\n",
            "2022-09-06 15:32:46 \u001b[1;30mINFO    \u001b[0m \u001b[34mrasa.engine.training.hooks\u001b[0m  - Restored component 'CountVectorsFeaturizer' from cache.\n",
            "2022-09-06 15:32:47 \u001b[1;30mINFO    \u001b[0m \u001b[34mrasa.engine.training.hooks\u001b[0m  - Restored component 'CountVectorsFeaturizer' from cache.\n",
            "2022-09-06 15:32:47 \u001b[1;30mINFO    \u001b[0m \u001b[34mrasa.engine.training.hooks\u001b[0m  - Starting to train component 'RegexEntityExtractor'.\n",
            "\u001b[93m/usr/local/lib/python3.7/dist-packages/rasa/shared/utils/io.py:98: UserWarning: No lookup tables or regexes defined in the training data that have a name equal to any entity in the training data. In order for this component to work you need to define valid lookup tables or regexes in the training data.\n",
            "\u001b[0m2022-09-06 15:32:47 \u001b[1;30mINFO    \u001b[0m \u001b[34mrasa.engine.training.hooks\u001b[0m  - Finished training component 'RegexEntityExtractor'.\n",
            "2022-09-06 15:32:47 \u001b[1;30mINFO    \u001b[0m \u001b[34mrasa.engine.training.hooks\u001b[0m  - Restored component 'DIETClassifier' from cache.\n",
            "2022-09-06 15:32:47 \u001b[1;30mINFO    \u001b[0m \u001b[34mrasa.engine.training.hooks\u001b[0m  - Restored component 'MemoizationPolicy' from cache.\n",
            "2022-09-06 15:32:47 \u001b[1;30mINFO    \u001b[0m \u001b[34mrasa.engine.training.hooks\u001b[0m  - Restored component 'RulePolicy' from cache.\n",
            "2022-09-06 15:32:47 \u001b[1;30mINFO    \u001b[0m \u001b[34mrasa.engine.training.hooks\u001b[0m  - Restored component 'TEDPolicy' from cache.\n",
            "\u001b[92mYour Rasa model is trained and saved at 'models/20220906-153245-neat-acacia.tar.gz'.\u001b[0m\n",
            "2022-09-06 15:32:54 \u001b[1;30mINFO    \u001b[0m \u001b[34mrasa.core.processor\u001b[0m  - Loading model models/20220906-153245-neat-acacia.tar.gz...\n",
            "\u001b[93m/usr/local/lib/python3.7/dist-packages/rasa/utils/train_utils.py:531: UserWarning: constrain_similarities is set to `False`. It is recommended to set it to `True` when using cross-entropy loss.\n",
            "  category=UserWarning,\n",
            "\u001b[0m\u001b[93m/usr/local/lib/python3.7/dist-packages/rasa/shared/utils/io.py:98: UserWarning: Failed to load RegexEntityExtractor from model storage. This can happen if the model could not be trained because regexes could not be extracted from the given training data - and hence could not be persisted.\n",
            "\u001b[0m2022-09-06 15:33:41 \u001b[1;30mINFO    \u001b[0m \u001b[34mroot\u001b[0m  - Rasa server is up and running.\n",
            "Processed story blocks: 100% 8/8 [00:00<00:00, 2885.91it/s, # trackers=1]\n",
            "Processed rules: 100% 2/2 [00:00<00:00, 2955.82it/s, # trackers=1]\n",
            "\u001b[92mBot loaded. Visualisation at http://localhost:5006/visualization.html .\n",
            "Type a message and press enter (press 'Ctrl-c' to exit).\u001b[0m\n",
            "\u001b[6n\u001b[?2004h\u001b[?1l\u001b[?25l\u001b[0m\u001b[?7l\u001b[0m\u001b[J\u001b[0;38;5;67m?\u001b[0;1m Your input ->\u001b[15D\u001b[16C\u001b[?7h\u001b[0m\u001b[?12l\u001b[?25h\u001b[16D\u001b[J\u001b[0m\u001b[?7h\u001b[?2004lWARNING: your terminal doesn't support cursor position requests (CPR).\n",
            "\u001b[?2004h\u001b[?25l\u001b[0m\u001b[?7l\u001b[0m\u001b[J\u001b[0;38;5;67m?\u001b[0;1m Your input ->\u001b[15D\u001b[16C\u001b[?7h\u001b[0m\u001b[?12l\u001b[?25h\u001b[?25l\u001b[?7l\u001b[0;38;5;214;1mHi\u001b[?7h\u001b[0m\u001b[?12l\u001b[?25h\u001b[?25l\u001b[?7l\u001b[18D\u001b[0m\u001b[J\u001b[0;38;5;67m?\u001b[0;1m Your input -> \u001b[0;38;5;214;1mHi\u001b[18D\u001b[0m\n",
            "\u001b[J\u001b[?7h\u001b[0m\u001b[?12l\u001b[?25h\u001b[?2004l\u001b[93m/usr/local/lib/python3.7/dist-packages/rasa/shared/utils/io.py:98: UserWarning: The RegexEntityExtractor has not been trained properly yet. Continuing without extracting entities via this extractor.\n",
            "\u001b[0m\u001b[6n\u001b[?2004h\u001b[?1l\u001b[?25l\u001b[0m\u001b[?7l\u001b[0m\u001b[J\u001b[0;38;5;67m?\u001b[0;1m Your NLU model classified 'Hi' with intent 'greet' and there are no entities,\u001b[0m\n",
            "\u001b[0;1mis this correct? \u001b[0m(Y/n)\u001b[22D\u001b[23C\u001b[?7h\u001b[0m\u001b[?12l\u001b[?25h\u001b[23D\u001b[A\u001b[J\u001b[0m\u001b[?7h\u001b[?2004lWARNING: your terminal doesn't support cursor position requests (CPR).\n",
            "\u001b[?2004h\u001b[?25l\u001b[0m\u001b[?7l\u001b[0m\u001b[J\u001b[0;38;5;67m?\u001b[0;1m Your NLU model classified 'Hi' with intent 'greet' and there are no entities,\u001b[0m\n",
            "\u001b[0;1mis this correct? \u001b[0m(Y/n)\u001b[22D\u001b[23C\u001b[?7h\u001b[0m\u001b[?12l\u001b[?25h\u001b[?25l\u001b[?7l\u001b[A\u001b[23D\u001b[0m\u001b[J\u001b[0;38;5;67m?\u001b[0;1m Your NLU model classified 'Hi' with intent 'greet' and there are no entities,\u001b[0m\n",
            "\u001b[0;1mis this correct? \u001b[0;38;5;214;1mYes\u001b[20D\u001b[0m\n",
            "\u001b[J\u001b[?7h\u001b[0m\u001b[?12l\u001b[?25h\u001b[?2004l2022-09-06 15:34:01 \u001b[1;30mERROR   \u001b[0m \u001b[34mrasa.core.training.interactive\u001b[0m  - \u001b[31mAn exception occurred while recording messages.\u001b[0m\n",
            "Traceback (most recent call last):\n",
            "  File \"/usr/local/lib/python3.7/dist-packages/rasa/core/training/interactive.py\", line 1509, in record_messages\n",
            "    plot_file,\n",
            "  File \"/usr/local/lib/python3.7/dist-packages/rasa/core/training/interactive.py\", line 979, in _predict_till_next_listen\n",
            "    await _print_history(conversation_id, endpoint)\n",
            "  File \"/usr/local/lib/python3.7/dist-packages/rasa/core/training/interactive.py\", line 478, in _print_history\n",
            "    table = _chat_history_table(events)\n",
            "  File \"/usr/local/lib/python3.7/dist-packages/rasa/core/training/interactive.py\", line 568, in _chat_history_table\n",
            "    msg = format_user_msg(event, user_width(table))\n",
            "  File \"/usr/local/lib/python3.7/dist-packages/rasa/core/training/interactive.py\", line 516, in format_user_msg\n",
            "    colored(wrap(_md, max_width), \"hired\"),\n",
            "  File \"/usr/local/lib/python3.7/dist-packages/rasa/core/training/interactive.py\", line 503, in wrap\n",
            "    textwrap.wrap(txt, true_wrapping_width, replace_whitespace=False)\n",
            "  File \"/usr/lib/python3.7/textwrap.py\", line 379, in wrap\n",
            "    return w.wrap(text)\n",
            "  File \"/usr/lib/python3.7/textwrap.py\", line 354, in wrap\n",
            "    return self._wrap_chunks(chunks)\n",
            "  File \"/usr/lib/python3.7/textwrap.py\", line 248, in _wrap_chunks\n",
            "    raise ValueError(\"invalid width %r (must be > 0)\" % self.width)\n",
            "ValueError: invalid width 0 (must be > 0)\n",
            "2022-09-06 15:34:01 \u001b[1;30mERROR   \u001b[0m \u001b[34masyncio\u001b[0m  - \u001b[31mTask exception was never retrieved\n",
            "future: <Task finished coro=<SignalRouter._dispatch() done, defined at /usr/local/lib/python3.7/dist-packages/sanic/signals.py:121> exception=ValueError('invalid width 0 (must be > 0)')>\u001b[0m\n",
            "Traceback (most recent call last):\n",
            "  File \"/usr/local/lib/python3.7/dist-packages/sanic/signals.py\", line 161, in _dispatch\n",
            "    retval = await maybe_coroutine\n",
            "  File \"/usr/local/lib/python3.7/dist-packages/sanic/app.py\", line 1581, in run_delayed_task\n",
            "    await prepped\n",
            "  File \"/usr/local/lib/python3.7/dist-packages/rasa/core/training/interactive.py\", line 1601, in run_interactive_io\n",
            "    conversation_id=conversation_id,\n",
            "  File \"/usr/local/lib/python3.7/dist-packages/rasa/core/training/interactive.py\", line 1509, in record_messages\n",
            "    plot_file,\n",
            "  File \"/usr/local/lib/python3.7/dist-packages/rasa/core/training/interactive.py\", line 979, in _predict_till_next_listen\n",
            "    await _print_history(conversation_id, endpoint)\n",
            "  File \"/usr/local/lib/python3.7/dist-packages/rasa/core/training/interactive.py\", line 478, in _print_history\n",
            "    table = _chat_history_table(events)\n",
            "  File \"/usr/local/lib/python3.7/dist-packages/rasa/core/training/interactive.py\", line 568, in _chat_history_table\n",
            "    msg = format_user_msg(event, user_width(table))\n",
            "  File \"/usr/local/lib/python3.7/dist-packages/rasa/core/training/interactive.py\", line 516, in format_user_msg\n",
            "    colored(wrap(_md, max_width), \"hired\"),\n",
            "  File \"/usr/local/lib/python3.7/dist-packages/rasa/core/training/interactive.py\", line 503, in wrap\n",
            "    textwrap.wrap(txt, true_wrapping_width, replace_whitespace=False)\n",
            "  File \"/usr/lib/python3.7/textwrap.py\", line 379, in wrap\n",
            "    return w.wrap(text)\n",
            "  File \"/usr/lib/python3.7/textwrap.py\", line 354, in wrap\n",
            "    return self._wrap_chunks(chunks)\n",
            "  File \"/usr/lib/python3.7/textwrap.py\", line 248, in _wrap_chunks\n",
            "    raise ValueError(\"invalid width %r (must be > 0)\" % self.width)\n",
            "ValueError: invalid width 0 (must be > 0)\n",
            "[2022-09-06 15:34:15 +0000] [1095] [ERROR] Experienced exception while trying to serve\n",
            "Traceback (most recent call last):\n",
            "  File \"/usr/local/lib/python3.7/dist-packages/sanic/app.py\", line 1204, in run\n",
            "    serve_single(server_settings)\n",
            "  File \"/usr/local/lib/python3.7/dist-packages/sanic/server/runners.py\", line 206, in serve_single\n",
            "    serve(**server_settings)\n",
            "  File \"/usr/local/lib/python3.7/dist-packages/sanic/server/runners.py\", line 155, in serve\n",
            "    loop.run_forever()\n",
            "  File \"uvloop/loop.pyx\", line 1377, in uvloop.loop.Loop.run_forever\n",
            "  File \"uvloop/loop.pyx\", line 550, in uvloop.loop.Loop._run\n",
            "  File \"uvloop/handles/poll.pyx\", line 213, in uvloop.loop.__on_uvpoll_event\n",
            "  File \"uvloop/cbhandles.pyx\", line 83, in uvloop.loop.Handle._run\n",
            "  File \"uvloop/cbhandles.pyx\", line 66, in uvloop.loop.Handle._run\n",
            "  File \"uvloop/loop.pyx\", line 390, in uvloop.loop.Loop._read_from_self\n",
            "  File \"uvloop/loop.pyx\", line 395, in uvloop.loop.Loop._invoke_signals\n",
            "  File \"uvloop/loop.pyx\", line 370, in uvloop.loop.Loop._ceval_process_signals\n",
            "KeyboardInterrupt\n",
            "Traceback (most recent call last):\n",
            "  File \"/usr/local/bin/rasa\", line 8, in <module>\n",
            "    sys.exit(main())\n",
            "  File \"/usr/local/lib/python3.7/dist-packages/rasa/__main__.py\", line 110, in main\n",
            "    cmdline_arguments.func(cmdline_arguments)\n",
            "  File \"/usr/local/lib/python3.7/dist-packages/rasa/cli/interactive.py\", line 94, in interactive\n",
            "    perform_interactive_learning(args, zipped_model, file_importer)\n",
            "  File \"/usr/local/lib/python3.7/dist-packages/rasa/cli/interactive.py\", line 129, in perform_interactive_learning\n",
            "    do_interactive_learning(args, file_importer)\n",
            "  File \"/usr/local/lib/python3.7/dist-packages/rasa/core/train.py\", line 106, in do_interactive_learning\n",
            "    server_args=args.__dict__,\n",
            "  File \"/usr/local/lib/python3.7/dist-packages/rasa/core/training/interactive.py\", line 1691, in run_interactive_learning\n",
            "    _serve_application(app, file_importer, skip_visualization, conversation_id, port)\n",
            "  File \"/usr/local/lib/python3.7/dist-packages/rasa/core/training/interactive.py\", line 1612, in _serve_application\n",
            "    app.run(host=\"0.0.0.0\", port=port)\n",
            "  File \"/usr/local/lib/python3.7/dist-packages/sanic/app.py\", line 1204, in run\n",
            "    serve_single(server_settings)\n",
            "  File \"/usr/local/lib/python3.7/dist-packages/sanic/server/runners.py\", line 206, in serve_single\n",
            "    serve(**server_settings)\n",
            "  File \"/usr/local/lib/python3.7/dist-packages/sanic/server/runners.py\", line 155, in serve\n",
            "    loop.run_forever()\n",
            "  File \"uvloop/loop.pyx\", line 1377, in uvloop.loop.Loop.run_forever\n",
            "  File \"uvloop/loop.pyx\", line 550, in uvloop.loop.Loop._run\n",
            "  File \"uvloop/handles/poll.pyx\", line 213, in uvloop.loop.__on_uvpoll_event\n",
            "  File \"uvloop/cbhandles.pyx\", line 83, in uvloop.loop.Handle._run\n",
            "  File \"uvloop/cbhandles.pyx\", line 66, in uvloop.loop.Handle._run\n",
            "  File \"uvloop/loop.pyx\", line 390, in uvloop.loop.Loop._read_from_self\n",
            "  File \"uvloop/loop.pyx\", line 395, in uvloop.loop.Loop._invoke_signals\n",
            "  File \"uvloop/loop.pyx\", line 370, in uvloop.loop.Loop._ceval_process_signals\n",
            "KeyboardInterrupt\n"
          ]
        }
      ],
      "source": [
        "!rasa interactive"
      ]
    },
    {
      "cell_type": "code",
      "execution_count": null,
      "metadata": {
        "id": "jBJP_dD-BST-"
      },
      "outputs": [],
      "source": []
    }
  ],
  "metadata": {
    "colab": {
      "collapsed_sections": [],
      "provenance": [],
      "include_colab_link": true
    },
    "gpuClass": "standard",
    "kernelspec": {
      "display_name": "Python 3",
      "name": "python3"
    },
    "language_info": {
      "name": "python"
    }
  },
  "nbformat": 4,
  "nbformat_minor": 0
}